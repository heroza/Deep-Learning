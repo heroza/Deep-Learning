{
  "cells": [
    {
      "cell_type": "markdown",
      "metadata": {
        "id": "view-in-github",
        "colab_type": "text"
      },
      "source": [
        "<a href=\"https://colab.research.google.com/github/heroza/Deep-Learning/blob/master/Skin_Cancer_Diagnosis_using_CIFAR10_Inception.ipynb\" target=\"_parent\"><img src=\"https://colab.research.google.com/assets/colab-badge.svg\" alt=\"Open In Colab\"/></a>"
      ]
    },
    {
      "cell_type": "markdown",
      "metadata": {
        "id": "PUusDE1Z9TNb"
      },
      "source": [
        "Prepare the dataset. \n",
        "Currently, we use skin cancer ISIC dataset from Kaggle https://www.kaggle.com/datasets/nodoubttome/skin-cancer9-classesisic\n",
        "\n",
        "Tutorial for how to load Kaggle dataset can be found in https://www.analyticsvidhya.com/blog/2021/06/how-to-load-kaggle-datasets-directly-into-google-colab/"
      ]
    },
    {
      "cell_type": "code",
      "execution_count": 1,
      "metadata": {
        "colab": {
          "base_uri": "https://localhost:8080/"
        },
        "id": "Eus_4tUgfEk9",
        "outputId": "5d1529e4-ce42-4d9f-9c11-02ca2cf25a1b"
      },
      "outputs": [
        {
          "output_type": "stream",
          "name": "stdout",
          "text": [
            "Mounted at /content/drive\n"
          ]
        }
      ],
      "source": [
        "from google.colab import drive\n",
        "drive.mount('/content/drive')"
      ]
    },
    {
      "cell_type": "markdown",
      "metadata": {
        "id": "E_x4c0_DTkaa"
      },
      "source": [
        "#Library, atribut, and function"
      ]
    },
    {
      "cell_type": "code",
      "execution_count": 17,
      "metadata": {
        "colab": {
          "base_uri": "https://localhost:8080/"
        },
        "id": "nR2MJBYq-oiB",
        "outputId": "3effc659-935b-4020-900f-3e12f387761b"
      },
      "outputs": [
        {
          "output_type": "stream",
          "name": "stdout",
          "text": [
            "Looking in indexes: https://pypi.org/simple, https://us-python.pkg.dev/colab-wheels/public/simple/\n",
            "Requirement already satisfied: imbalanced-learn in /usr/local/lib/python3.7/dist-packages (0.8.1)\n",
            "Requirement already satisfied: joblib>=0.11 in /usr/local/lib/python3.7/dist-packages (from imbalanced-learn) (1.1.0)\n",
            "Requirement already satisfied: numpy>=1.13.3 in /usr/local/lib/python3.7/dist-packages (from imbalanced-learn) (1.21.6)\n",
            "Requirement already satisfied: scipy>=0.19.1 in /usr/local/lib/python3.7/dist-packages (from imbalanced-learn) (1.7.3)\n",
            "Requirement already satisfied: scikit-learn>=0.24 in /usr/local/lib/python3.7/dist-packages (from imbalanced-learn) (1.0.2)\n",
            "Requirement already satisfied: threadpoolctl>=2.0.0 in /usr/local/lib/python3.7/dist-packages (from scikit-learn>=0.24->imbalanced-learn) (3.1.0)\n"
          ]
        }
      ],
      "source": [
        "import pandas as pd\n",
        "import numpy as np\n",
        "import tensorflow as tf\n",
        "import matplotlib.pyplot as plt\n",
        "import seaborn as sns\n",
        "import os\n",
        "from collections import Counter\n",
        "from pathlib import Path\n",
        "from PIL import Image\n",
        "from sklearn import preprocessing\n",
        "from sklearn.metrics import precision_recall_fscore_support, balanced_accuracy_score, confusion_matrix, accuracy_score\n",
        "from keras.callbacks import ReduceLROnPlateau, EarlyStopping, ModelCheckpoint\n",
        "from keras.preprocessing.image import ImageDataGenerator\n",
        "from keras.models import Sequential\n",
        "from keras.layers import Conv2D, MaxPooling2D, UpSampling2D\n",
        "from tensorflow import keras\n",
        "from tensorflow.keras import layers\n",
        "from tensorflow.keras.optimizers import Adam, SGD\n",
        "from tensorflow.keras.preprocessing import image\n",
        "from tensorflow.keras.applications.resnet50 import ResNet50, preprocess_input, decode_predictions\n",
        "from tensorflow.keras.applications.inception_v3 import InceptionV3, preprocess_input\n",
        "from tensorflow.keras.layers import GlobalAveragePooling2D, Dense, Input, Dropout, Flatten\n",
        "from tensorflow.keras.models import Model, load_model\n",
        "from keras.utils.np_utils import to_categorical\n",
        "\n",
        "!pip install imbalanced-learn\n",
        "import imblearn\n",
        "from imblearn.over_sampling import SMOTE"
      ]
    },
    {
      "cell_type": "code",
      "execution_count": 28,
      "metadata": {
        "id": "9-c7Xghg4SB4"
      },
      "outputs": [],
      "source": [
        "# input image size\n",
        "IMAGE_W = 32\n",
        "IMAGE_H = 32\n",
        "IMG_SIZE = (IMAGE_W,IMAGE_H)\n",
        "num_classes = 10\n",
        "EPOCHS = 100\n",
        "BATCH_SIZE = 64\n",
        "opt_adam = Adam(learning_rate=0.001, beta_1=0.9, beta_2=0.999, epsilon=None, decay=0.0, amsgrad=False)\n",
        "opt_SGD = SGD(learning_rate=0.001)\n",
        "arch = 'inception_v3'\n",
        "\n",
        "#Data augmentation\n",
        "data_augmentation = tf.keras.Sequential([\n",
        "  layers.experimental.preprocessing.RandomFlip(\"horizontal_and_vertical\"),\n",
        "  layers.experimental.preprocessing.RandomRotation(0.2), \n",
        "  layers.experimental.preprocessing.RandomZoom(height_factor=(0.2, 0.3), width_factor=(0.2, 0.3)),\n",
        "  layers.experimental.preprocessing.RandomTranslation(0.3, 0.3, fill_mode='reflect', interpolation='bilinear',)\n",
        "])\n",
        "\n",
        "#Callbacks\n",
        "best_model_fpath = '/content/drive/MyDrive/PHD/Model/best_model_no.h5'\n",
        "last_model_fpath = '/content/drive/MyDrive/PHD/Model/last_model_no.h5'\n",
        "mc = ModelCheckpoint(best_model_fpath, monitor='val_balanced_acc', mode='max', verbose=1, save_best_only=True)\n",
        "learning_rate_reduction = ReduceLROnPlateau(monitor='val_balanced_acc', patience=10, verbose=1, factor=0.5, min_lr=0.00001)\n",
        "early_stopping_monitor = EarlyStopping(patience=30,monitor='val_balanced_acc')\n"
      ]
    },
    {
      "cell_type": "code",
      "execution_count": 26,
      "metadata": {
        "id": "JffFid9sOXeo"
      },
      "outputs": [],
      "source": [
        "# load train and test dataset\n",
        "def preprocess_image_input(input_images):\n",
        "  global arch\n",
        "  input_images = input_images.astype('float32')\n",
        "  if arch == 'inception_v3':\n",
        "    output_ims = tf.keras.applications.inception_v3.preprocess_input(input_images)\n",
        "  else:\n",
        "    output_ims = tf.keras.applications.resnet50.preprocess_input(input_images)\n",
        "  return output_ims\n",
        "\n",
        "def load_cifar10_dataset():\n",
        "  from keras.datasets import cifar10\n",
        "\t# load dataset\n",
        "  (X_train, y_train), (X_val, y_val) = cifar10.load_data()\n",
        "\t# one hot encode target values\n",
        "  y_train = to_categorical(y_train)\n",
        "  y_val = to_categorical(y_val)\n",
        "\n",
        "  return X_train, y_train, X_val, y_val\n",
        "\n",
        "def balanced_acc(y_true, y_pred):\n",
        "    from keras import backend as K\n",
        "\n",
        "    tensor1 = tf.math.argmax(y_true, axis=1)\n",
        "    tensor2 = tf.math.argmax(y_pred, axis=1)\n",
        "\n",
        "    cm = tf.math.confusion_matrix(tensor1, tensor2)\n",
        "    \n",
        "    diag = tf.linalg.tensor_diag_part (cm)\n",
        "    tpfn = tf.cast(K.sum(cm, axis = 1), tf.float32) + K.epsilon()\n",
        "    recall = tf.divide(tf.cast(diag, tf.float32),tpfn)\n",
        "    balanced_acc = K.mean(recall)\n",
        "    return balanced_acc\n",
        "\n",
        "def define_model():\n",
        "\tmodel = Sequential()\n",
        "\tmodel.add(Conv2D(32, (3, 3), activation='relu', kernel_initializer='he_uniform', padding='same', input_shape=(32, 32, 3)))\n",
        "\tmodel.add(Conv2D(32, (3, 3), activation='relu', kernel_initializer='he_uniform', padding='same'))\n",
        "\tmodel.add(MaxPooling2D((2, 2)))\n",
        "\tmodel.add(Flatten())\n",
        "\tmodel.add(Dense(128, activation='relu', kernel_initializer='he_uniform'))\n",
        "\tmodel.add(Dense(10, activation='softmax'))\n",
        "\t# compile model\n",
        "\topt = SGD(learning_rate=0.001, momentum=0.9)\n",
        "\tmodel.compile(optimizer=opt, loss='categorical_crossentropy', metrics=['accuracy'])\n",
        "\treturn model\n",
        "\n",
        "def define_base_model():\n",
        "  global arch\n",
        "  input_tensor = Input(shape=(IMAGE_H, IMAGE_W, 3))\n",
        "  x = UpSampling2D(size=(7,7))(input_tensor)\n",
        "  #x = data_augmentation(input_tensor)\n",
        "  #x = layers.Rescaling(1.0 / 255)(input_tensor)  # Rescale inputs\n",
        "  if arch == 'resnet50':\n",
        "    x = ResNet50(input_shape=(224,224,3), weights='imagenet', include_top=False)(x, training=False)\n",
        "  elif arch == 'inception_v3':\n",
        "    x = InceptionV3(input_shape=(224,224,3), weights='imagenet', include_top=False)(x, training=False)\n",
        "  x = GlobalAveragePooling2D()(x)\n",
        "  x = Flatten()(x)\n",
        "  x = Dense(1024, activation='relu')(x)\n",
        "  x = Dense(512, activation='relu')(x)\n",
        "  predictions = Dense(num_classes, activation='softmax')(x)\n",
        "  model = Model(inputs=input_tensor, outputs=predictions)\n",
        "  model.compile(optimizer = opt_SGD , loss = \"categorical_crossentropy\", metrics=['accuracy', balanced_acc])\n",
        "  return model\n",
        "\n",
        "# plot diagnostic learning curves\n",
        "def summarize_diagnostics(history):\n",
        "\t# plot loss\n",
        "\tplt.subplot(211)\n",
        "\tplt.title('Cross Entropy Loss')\n",
        "\tplt.plot(history.history['loss'], color='blue', label='train')\n",
        "\tplt.plot(history.history['val_loss'], color='orange', label='test')\n",
        "\t# plot accuracy\n",
        "\tplt.subplot(212)\n",
        "\tplt.title('Classification Accuracy')\n",
        "\tplt.plot(history.history['accuracy'], color='blue', label='train')\n",
        "\tplt.plot(history.history['val_accuracy'], color='orange', label='test')\n",
        "\tplt.close()\n",
        " \n",
        "# scale pixels\n",
        "def norm_pixels(train, test):\n",
        "\t# convert from integers to floats\n",
        "\ttrain_norm = train.astype('float32')\n",
        "\ttest_norm = test.astype('float32')\n",
        "\t# normalize to range 0-1\n",
        "\ttrain_norm = train_norm / 255.0\n",
        "\ttest_norm = test_norm / 255.0\n",
        "\t# return normalized images\n",
        "\treturn train_norm, test_norm\n",
        "\n",
        "def load_isic2018_dataset(train_under_frac = 0):\n",
        "  df_train = pd.read_csv('/content/drive/MyDrive/PHD/Datasets/isic2018/ISIC2018_Task3_Training_GroundTruth/ISIC2018_Task3_Training_GroundTruth.csv') \n",
        "  df_val = pd.read_csv('/content/drive/MyDrive/PHD/Datasets/isic2018/ISIC2018_Task3_Validation_GroundTruth/ISIC2018_Task3_Validation_GroundTruth.csv') \n",
        "\n",
        "  #decode one hot label\n",
        "  df_train[\"Labels\"] = (df_train.iloc[:, 1:]).idxmax(axis=1)\n",
        "  df_val[\"Labels\"] = (df_val.iloc[:, 1:]).idxmax(axis=1)\n",
        "\n",
        "  #random undersampling for training dataset\n",
        "  if train_under_frac !=0:\n",
        "    df_train = df_train.drop(df_train[df_train['Labels'] == 'NV'].sample(frac=train_under_frac).index)\n",
        "\n",
        "  #drop one-hot column\n",
        "  df_train = df_train.drop(columns=['MEL', 'NV', 'BCC', 'AKIEC', 'BKL', 'DF', 'VASC'])\n",
        "  df_val = df_val.drop(columns=['MEL', 'NV', 'BCC', 'AKIEC', 'BKL', 'DF', 'VASC'])\n",
        "\n",
        "  #make filepaths of the image\n",
        "  dir_train = '/content/drive/MyDrive/PHD/Datasets/isic2018/ISIC2018_Task3_Training_Input/'\n",
        "  dir_val = '/content/drive/MyDrive/PHD/Datasets/isic2018/ISIC2018_Task3_Validation_Input/'\n",
        "  df_train['FilePaths'] = dir_train + df_train['image'] + '.jpg'\n",
        "  df_val['FilePaths'] = dir_val + df_val['image'] + '.jpg'\n",
        "  \n",
        "  #load image pixels to dataframe\n",
        "  df_train['image_px'] = df_train['FilePaths'].map(lambda x: np.asarray(Image.open(x).resize(IMG_SIZE)))\n",
        "  df_val['image_px'] = df_val['FilePaths'].map(lambda x: np.asarray(Image.open(x).resize(IMG_SIZE)))\n",
        "\n",
        "  X_train = np.asarray(df_train['image_px'].tolist())\n",
        "  X_val = np.asarray(df_val['image_px'].tolist())\n",
        "  y_train = np.array(df_train['Labels'].values)\n",
        "  y_val = np.array(df_val['Labels'].values)\n",
        "\n",
        "  label_encoder = preprocessing.LabelEncoder()\n",
        "  y_train = label_encoder.fit_transform(y_train)\n",
        "  y_val = label_encoder.fit_transform(y_val)\n",
        "  \n",
        "  y_train = to_categorical(y_train, num_classes = num_classes)\n",
        "  y_val = to_categorical(y_val, num_classes = num_classes)\n",
        "\n",
        "  return X_train, y_train, X_val, y_val, df_train, df_val\n",
        "\n",
        "def reset_dataset(df_train, df_val):\n",
        "  X_train = np.asarray(df_train['image_px'].tolist())\n",
        "  X_val = np.asarray(df_val['image_px'].tolist())\n",
        "  y_train = np.array(df_train['Labels'].values)\n",
        "  y_val = np.array(df_val['Labels'].values)\n",
        "\n",
        "  X_train = preprocess_image_input(X_train)\n",
        "  X_val = preprocess_image_input(X_val)\n",
        "\n",
        "  label_encoder = preprocessing.LabelEncoder()\n",
        "  y_train = label_encoder.fit_transform(y_train)\n",
        "  y_val = label_encoder.fit_transform(y_val)\n",
        "  \n",
        "  y_train = to_categorical(y_train, num_classes = num_classes)\n",
        "  y_val = to_categorical(y_val, num_classes = num_classes)\n",
        "  return X_train, y_train, X_val, y_val\n",
        "\n",
        "def SMOTE_Data(X, y, one_hot = False, k = 5):\n",
        "  if one_hot:\n",
        "    y = np.argmax(y, axis=1)\n",
        "  sm = SMOTE(random_state=42, k_neighbors=k)\n",
        "  X_resampled, y_resampled = sm.fit_resample(X.reshape((-1, IMAGE_W * IMAGE_H * 3)), y)\n",
        "  X_resampled = X_resampled.reshape(-1, IMAGE_W, IMAGE_H, 3)\n",
        "  if one_hot:\n",
        "    y_resampled = to_categorical(y_resampled, num_classes = num_classes)\n",
        "  else:\n",
        "    y_resampled = y_resampled.reshape(-1,1)\n",
        "  return X_resampled, y_resampled"
      ]
    },
    {
      "cell_type": "markdown",
      "metadata": {
        "id": "5v7sLC2svMuJ"
      },
      "source": [
        "# Main"
      ]
    },
    {
      "cell_type": "code",
      "execution_count": 20,
      "metadata": {
        "id": "4Bw4C7Fwwxad"
      },
      "outputs": [],
      "source": [
        "X_train, y_train, X_val, y_val = load_cifar10_dataset()"
      ]
    },
    {
      "cell_type": "code",
      "execution_count": null,
      "metadata": {
        "id": "9QM00erNGU32"
      },
      "outputs": [],
      "source": [
        "#load data\n",
        "X_train, y_train, X_val, y_val, df_train, df_val = load_isic2018_dataset(train_under_frac = 0.7)\n",
        "print(X_train.shape)\n",
        "print(y_train.shape)\n",
        "print(X_val.shape)\n",
        "print(y_val.shape)"
      ]
    },
    {
      "cell_type": "code",
      "source": [
        "X_train = preprocess_image_input(X_train)\n",
        "X_val = preprocess_image_input(X_val)"
      ],
      "metadata": {
        "id": "o-rGI2h3JN5s"
      },
      "execution_count": 21,
      "outputs": []
    },
    {
      "cell_type": "code",
      "execution_count": null,
      "metadata": {
        "colab": {
          "base_uri": "https://localhost:8080/"
        },
        "id": "xArGWuciBt_-",
        "outputId": "ba1695e6-1977-4e1c-f5ac-dc305dadf246"
      },
      "outputs": [
        {
          "output_type": "stream",
          "name": "stdout",
          "text": [
            "(14077, 224, 224, 3)\n",
            "(14077, 7)\n",
            "(193, 224, 224, 3)\n",
            "(193, 7)\n",
            "Counter train data:  Counter({5: 2011, 4: 2011, 2: 2011, 3: 2011, 0: 2011, 1: 2011, 6: 2011})\n",
            "Counter val data:  Counter({5: 123, 2: 22, 4: 21, 1: 15, 0: 8, 6: 3, 3: 1})\n"
          ]
        }
      ],
      "source": [
        "X_train, y_train = SMOTE_Data(X_train, y_train, True)\n",
        "print(X_train.shape)\n",
        "print(y_train.shape)\n",
        "print(X_val.shape)\n",
        "print(y_val.shape)\n",
        "print('Counter train data: ', Counter(np.argmax(y_train, axis=1)))\n",
        "print('Counter val data: ', Counter(np.argmax(y_val, axis=1)))"
      ]
    },
    {
      "cell_type": "code",
      "execution_count": null,
      "metadata": {
        "id": "jpueuzs7ZBw9"
      },
      "outputs": [],
      "source": [
        "X_train, y_train, X_val, y_val= reset_dataset(df_train, df_val)"
      ]
    },
    {
      "cell_type": "code",
      "execution_count": null,
      "metadata": {
        "id": "A8eRZiucdYnP"
      },
      "outputs": [],
      "source": [
        "#USe TF.data\n",
        "training_data = tf.data.Dataset.from_tensor_slices((X_train, y_train))\n",
        "validation_data = tf.data.Dataset.from_tensor_slices((X_val, y_val))\n",
        "\n",
        "autotune = tf.data.AUTOTUNE\n",
        "train_data_batches = training_data.shuffle(buffer_size=40000).batch(BATCH_SIZE).prefetch(buffer_size=autotune)\n",
        "valid_data_batches = validation_data.shuffle(buffer_size=10000).batch(BATCH_SIZE).prefetch(buffer_size=autotune)"
      ]
    },
    {
      "cell_type": "code",
      "execution_count": null,
      "metadata": {
        "id": "nAMBgWqIsAAB"
      },
      "outputs": [],
      "source": [
        "print(X_train.shape)\n",
        "print(y_train.shape)\n",
        "print(X_val.shape)\n",
        "print(y_val.shape)\n",
        "print('Counter train data: ', Counter(np.argmax(y_train, axis=1)))\n",
        "print('Counter val data: ', Counter(np.argmax(y_val, axis=1)))"
      ]
    },
    {
      "cell_type": "code",
      "source": [
        "model.summary()"
      ],
      "metadata": {
        "colab": {
          "base_uri": "https://localhost:8080/"
        },
        "id": "GyGFN2-bF811",
        "outputId": "ba983b4d-6859-442e-b817-d29b159c66e4"
      },
      "execution_count": 29,
      "outputs": [
        {
          "output_type": "stream",
          "name": "stdout",
          "text": [
            "Model: \"model_3\"\n",
            "_________________________________________________________________\n",
            " Layer (type)                Output Shape              Param #   \n",
            "=================================================================\n",
            " input_8 (InputLayer)        [(None, 32, 32, 3)]       0         \n",
            "                                                                 \n",
            " up_sampling2d_3 (UpSampling  (None, 224, 224, 3)      0         \n",
            " 2D)                                                             \n",
            "                                                                 \n",
            " inception_v3 (Functional)   (None, 5, 5, 2048)        21802784  \n",
            "                                                                 \n",
            " global_average_pooling2d_3   (None, 2048)             0         \n",
            " (GlobalAveragePooling2D)                                        \n",
            "                                                                 \n",
            " flatten_3 (Flatten)         (None, 2048)              0         \n",
            "                                                                 \n",
            " dense_9 (Dense)             (None, 1024)              2098176   \n",
            "                                                                 \n",
            " dense_10 (Dense)            (None, 512)               524800    \n",
            "                                                                 \n",
            " dense_11 (Dense)            (None, 10)                5130      \n",
            "                                                                 \n",
            "=================================================================\n",
            "Total params: 24,430,890\n",
            "Trainable params: 24,396,458\n",
            "Non-trainable params: 34,432\n",
            "_________________________________________________________________\n"
          ]
        }
      ]
    },
    {
      "cell_type": "code",
      "execution_count": 30,
      "metadata": {
        "colab": {
          "base_uri": "https://localhost:8080/"
        },
        "id": "vIygrW81Ln4z",
        "outputId": "e8a3999d-1256-4b2e-d44a-d1eb9f518d5f"
      },
      "outputs": [
        {
          "output_type": "stream",
          "name": "stdout",
          "text": [
            "Epoch 1/100\n",
            "781/781 [==============================] - ETA: 0s - loss: 0.4221 - accuracy: 0.8688 - balanced_acc: 0.8676\n",
            "Epoch 1: val_balanced_acc improved from -inf to 0.92587, saving model to /content/drive/MyDrive/PHD/Model/best_model_no.h5\n",
            "781/781 [==============================] - 227s 284ms/step - loss: 0.4221 - accuracy: 0.8688 - balanced_acc: 0.8676 - val_loss: 0.2167 - val_accuracy: 0.9300 - val_balanced_acc: 0.9259 - lr: 0.0010\n",
            "Epoch 2/100\n",
            "781/781 [==============================] - ETA: 0s - loss: 0.1527 - accuracy: 0.9496 - balanced_acc: 0.9478\n",
            "Epoch 2: val_balanced_acc improved from 0.92587 to 0.93233, saving model to /content/drive/MyDrive/PHD/Model/best_model_no.h5\n",
            "781/781 [==============================] - 221s 283ms/step - loss: 0.1527 - accuracy: 0.9496 - balanced_acc: 0.9478 - val_loss: 0.1940 - val_accuracy: 0.9355 - val_balanced_acc: 0.9323 - lr: 0.0010\n",
            "Epoch 3/100\n",
            "781/781 [==============================] - ETA: 0s - loss: 0.1013 - accuracy: 0.9667 - balanced_acc: 0.9651\n",
            "Epoch 3: val_balanced_acc improved from 0.93233 to 0.94188, saving model to /content/drive/MyDrive/PHD/Model/best_model_no.h5\n",
            "781/781 [==============================] - 221s 282ms/step - loss: 0.1013 - accuracy: 0.9667 - balanced_acc: 0.9651 - val_loss: 0.1759 - val_accuracy: 0.9446 - val_balanced_acc: 0.9419 - lr: 0.0010\n",
            "Epoch 4/100\n",
            "781/781 [==============================] - ETA: 0s - loss: 0.0671 - accuracy: 0.9780 - balanced_acc: 0.9764\n",
            "Epoch 4: val_balanced_acc improved from 0.94188 to 0.94792, saving model to /content/drive/MyDrive/PHD/Model/best_model_no.h5\n",
            "781/781 [==============================] - 220s 282ms/step - loss: 0.0671 - accuracy: 0.9780 - balanced_acc: 0.9764 - val_loss: 0.1599 - val_accuracy: 0.9506 - val_balanced_acc: 0.9479 - lr: 0.0010\n",
            "Epoch 5/100\n",
            "781/781 [==============================] - ETA: 0s - loss: 0.0432 - accuracy: 0.9862 - balanced_acc: 0.9848\n",
            "Epoch 5: val_balanced_acc improved from 0.94792 to 0.95068, saving model to /content/drive/MyDrive/PHD/Model/best_model_no.h5\n",
            "781/781 [==============================] - 221s 283ms/step - loss: 0.0432 - accuracy: 0.9862 - balanced_acc: 0.9848 - val_loss: 0.1657 - val_accuracy: 0.9533 - val_balanced_acc: 0.9507 - lr: 0.0010\n",
            "Epoch 6/100\n",
            "781/781 [==============================] - ETA: 0s - loss: 0.0269 - accuracy: 0.9917 - balanced_acc: 0.9898\n",
            "Epoch 6: val_balanced_acc did not improve from 0.95068\n",
            "781/781 [==============================] - 219s 280ms/step - loss: 0.0269 - accuracy: 0.9917 - balanced_acc: 0.9898 - val_loss: 0.1727 - val_accuracy: 0.9532 - val_balanced_acc: 0.9501 - lr: 0.0010\n",
            "Epoch 7/100\n",
            "781/781 [==============================] - ETA: 0s - loss: 0.0151 - accuracy: 0.9960 - balanced_acc: 0.9950\n",
            "Epoch 7: val_balanced_acc did not improve from 0.95068\n",
            "781/781 [==============================] - 219s 281ms/step - loss: 0.0151 - accuracy: 0.9960 - balanced_acc: 0.9950 - val_loss: 0.1827 - val_accuracy: 0.9530 - val_balanced_acc: 0.9504 - lr: 0.0010\n",
            "Epoch 8/100\n",
            "781/781 [==============================] - ETA: 0s - loss: 0.0064 - accuracy: 0.9989 - balanced_acc: 0.9980\n",
            "Epoch 8: val_balanced_acc improved from 0.95068 to 0.95114, saving model to /content/drive/MyDrive/PHD/Model/best_model_no.h5\n",
            "781/781 [==============================] - 221s 282ms/step - loss: 0.0064 - accuracy: 0.9989 - balanced_acc: 0.9980 - val_loss: 0.2036 - val_accuracy: 0.9536 - val_balanced_acc: 0.9511 - lr: 0.0010\n",
            "Epoch 9/100\n",
            "781/781 [==============================] - ETA: 0s - loss: 0.0029 - accuracy: 0.9997 - balanced_acc: 0.9978\n",
            "Epoch 9: val_balanced_acc improved from 0.95114 to 0.95193, saving model to /content/drive/MyDrive/PHD/Model/best_model_no.h5\n",
            "781/781 [==============================] - 224s 287ms/step - loss: 0.0029 - accuracy: 0.9997 - balanced_acc: 0.9978 - val_loss: 0.2115 - val_accuracy: 0.9543 - val_balanced_acc: 0.9519 - lr: 0.0010\n",
            "Epoch 10/100\n",
            "781/781 [==============================] - ETA: 0s - loss: 0.0015 - accuracy: 0.9999 - balanced_acc: 0.9990\n",
            "Epoch 10: val_balanced_acc improved from 0.95193 to 0.95196, saving model to /content/drive/MyDrive/PHD/Model/best_model_no.h5\n",
            "781/781 [==============================] - 221s 283ms/step - loss: 0.0015 - accuracy: 0.9999 - balanced_acc: 0.9990 - val_loss: 0.2272 - val_accuracy: 0.9546 - val_balanced_acc: 0.9520 - lr: 0.0010\n",
            "Epoch 11/100\n",
            "781/781 [==============================] - ETA: 0s - loss: 9.2305e-04 - accuracy: 1.0000 - balanced_acc: 0.9988\n",
            "Epoch 11: val_balanced_acc did not improve from 0.95196\n",
            "781/781 [==============================] - 220s 281ms/step - loss: 9.2305e-04 - accuracy: 1.0000 - balanced_acc: 0.9988 - val_loss: 0.2363 - val_accuracy: 0.9547 - val_balanced_acc: 0.9519 - lr: 0.0010\n",
            "Epoch 12/100\n",
            "781/781 [==============================] - ETA: 0s - loss: 6.5593e-04 - accuracy: 1.0000 - balanced_acc: 0.9985\n",
            "Epoch 12: val_balanced_acc did not improve from 0.95196\n",
            "781/781 [==============================] - 219s 281ms/step - loss: 6.5593e-04 - accuracy: 1.0000 - balanced_acc: 0.9985 - val_loss: 0.2430 - val_accuracy: 0.9543 - val_balanced_acc: 0.9517 - lr: 0.0010\n",
            "Epoch 13/100\n",
            "781/781 [==============================] - ETA: 0s - loss: 5.1048e-04 - accuracy: 1.0000 - balanced_acc: 0.9987\n",
            "Epoch 13: val_balanced_acc did not improve from 0.95196\n",
            "781/781 [==============================] - 219s 281ms/step - loss: 5.1048e-04 - accuracy: 1.0000 - balanced_acc: 0.9987 - val_loss: 0.2513 - val_accuracy: 0.9543 - val_balanced_acc: 0.9518 - lr: 0.0010\n",
            "Epoch 14/100\n",
            "781/781 [==============================] - ETA: 0s - loss: 4.2385e-04 - accuracy: 1.0000 - balanced_acc: 0.9994\n",
            "Epoch 14: val_balanced_acc did not improve from 0.95196\n",
            "781/781 [==============================] - 219s 281ms/step - loss: 4.2385e-04 - accuracy: 1.0000 - balanced_acc: 0.9994 - val_loss: 0.2570 - val_accuracy: 0.9539 - val_balanced_acc: 0.9514 - lr: 0.0010\n",
            "Epoch 15/100\n",
            "781/781 [==============================] - ETA: 0s - loss: 3.5356e-04 - accuracy: 1.0000 - balanced_acc: 0.9987\n",
            "Epoch 15: val_balanced_acc improved from 0.95196 to 0.95198, saving model to /content/drive/MyDrive/PHD/Model/best_model_no.h5\n",
            "781/781 [==============================] - 221s 283ms/step - loss: 3.5356e-04 - accuracy: 1.0000 - balanced_acc: 0.9987 - val_loss: 0.2611 - val_accuracy: 0.9545 - val_balanced_acc: 0.9520 - lr: 0.0010\n",
            "Epoch 16/100\n",
            "781/781 [==============================] - ETA: 0s - loss: 3.1027e-04 - accuracy: 1.0000 - balanced_acc: 0.9988\n",
            "Epoch 16: val_balanced_acc did not improve from 0.95198\n",
            "781/781 [==============================] - 219s 281ms/step - loss: 3.1027e-04 - accuracy: 1.0000 - balanced_acc: 0.9988 - val_loss: 0.2666 - val_accuracy: 0.9538 - val_balanced_acc: 0.9513 - lr: 0.0010\n",
            "Epoch 17/100\n",
            "781/781 [==============================] - ETA: 0s - loss: 2.6863e-04 - accuracy: 1.0000 - balanced_acc: 0.9976\n",
            "Epoch 17: val_balanced_acc did not improve from 0.95198\n",
            "781/781 [==============================] - 219s 281ms/step - loss: 2.6863e-04 - accuracy: 1.0000 - balanced_acc: 0.9976 - val_loss: 0.2707 - val_accuracy: 0.9545 - val_balanced_acc: 0.9519 - lr: 0.0010\n",
            "Epoch 18/100\n",
            "781/781 [==============================] - ETA: 0s - loss: 2.4099e-04 - accuracy: 1.0000 - balanced_acc: 0.9983\n",
            "Epoch 18: val_balanced_acc improved from 0.95198 to 0.95232, saving model to /content/drive/MyDrive/PHD/Model/best_model_no.h5\n",
            "781/781 [==============================] - 220s 282ms/step - loss: 2.4099e-04 - accuracy: 1.0000 - balanced_acc: 0.9983 - val_loss: 0.2747 - val_accuracy: 0.9548 - val_balanced_acc: 0.9523 - lr: 0.0010\n",
            "Epoch 19/100\n",
            "781/781 [==============================] - ETA: 0s - loss: 2.1455e-04 - accuracy: 1.0000 - balanced_acc: 0.9990\n",
            "Epoch 19: val_balanced_acc did not improve from 0.95232\n",
            "781/781 [==============================] - 219s 281ms/step - loss: 2.1455e-04 - accuracy: 1.0000 - balanced_acc: 0.9990 - val_loss: 0.2778 - val_accuracy: 0.9542 - val_balanced_acc: 0.9517 - lr: 0.0010\n",
            "Epoch 20/100\n",
            "781/781 [==============================] - ETA: 0s - loss: 1.9356e-04 - accuracy: 1.0000 - balanced_acc: 0.9994\n",
            "Epoch 20: val_balanced_acc did not improve from 0.95232\n",
            "781/781 [==============================] - 219s 281ms/step - loss: 1.9356e-04 - accuracy: 1.0000 - balanced_acc: 0.9994 - val_loss: 0.2816 - val_accuracy: 0.9541 - val_balanced_acc: 0.9517 - lr: 0.0010\n",
            "Epoch 21/100\n",
            "781/781 [==============================] - ETA: 0s - loss: 1.8195e-04 - accuracy: 1.0000 - balanced_acc: 0.9991\n",
            "Epoch 21: val_balanced_acc did not improve from 0.95232\n",
            "781/781 [==============================] - 219s 281ms/step - loss: 1.8195e-04 - accuracy: 1.0000 - balanced_acc: 0.9991 - val_loss: 0.2845 - val_accuracy: 0.9536 - val_balanced_acc: 0.9512 - lr: 0.0010\n",
            "Epoch 22/100\n",
            "781/781 [==============================] - ETA: 0s - loss: 1.6416e-04 - accuracy: 1.0000 - balanced_acc: 0.9990\n",
            "Epoch 22: val_balanced_acc did not improve from 0.95232\n",
            "781/781 [==============================] - 219s 281ms/step - loss: 1.6416e-04 - accuracy: 1.0000 - balanced_acc: 0.9990 - val_loss: 0.2872 - val_accuracy: 0.9539 - val_balanced_acc: 0.9514 - lr: 0.0010\n",
            "Epoch 23/100\n",
            "781/781 [==============================] - ETA: 0s - loss: 1.5205e-04 - accuracy: 1.0000 - balanced_acc: 0.9992\n",
            "Epoch 23: val_balanced_acc did not improve from 0.95232\n",
            "781/781 [==============================] - 219s 281ms/step - loss: 1.5205e-04 - accuracy: 1.0000 - balanced_acc: 0.9992 - val_loss: 0.2907 - val_accuracy: 0.9542 - val_balanced_acc: 0.9518 - lr: 0.0010\n",
            "Epoch 24/100\n",
            "781/781 [==============================] - ETA: 0s - loss: 1.3925e-04 - accuracy: 1.0000 - balanced_acc: 0.9986\n",
            "Epoch 24: val_balanced_acc did not improve from 0.95232\n",
            "781/781 [==============================] - 219s 281ms/step - loss: 1.3925e-04 - accuracy: 1.0000 - balanced_acc: 0.9986 - val_loss: 0.2933 - val_accuracy: 0.9538 - val_balanced_acc: 0.9514 - lr: 0.0010\n",
            "Epoch 25/100\n",
            "781/781 [==============================] - ETA: 0s - loss: 1.3057e-04 - accuracy: 1.0000 - balanced_acc: 0.9986\n",
            "Epoch 25: val_balanced_acc did not improve from 0.95232\n",
            "781/781 [==============================] - 219s 281ms/step - loss: 1.3057e-04 - accuracy: 1.0000 - balanced_acc: 0.9986 - val_loss: 0.2952 - val_accuracy: 0.9537 - val_balanced_acc: 0.9514 - lr: 0.0010\n",
            "Epoch 26/100\n",
            "781/781 [==============================] - ETA: 0s - loss: 1.2308e-04 - accuracy: 1.0000 - balanced_acc: 0.9986\n",
            "Epoch 26: val_balanced_acc did not improve from 0.95232\n",
            "781/781 [==============================] - 219s 281ms/step - loss: 1.2308e-04 - accuracy: 1.0000 - balanced_acc: 0.9986 - val_loss: 0.2980 - val_accuracy: 0.9538 - val_balanced_acc: 0.9514 - lr: 0.0010\n",
            "Epoch 27/100\n",
            "781/781 [==============================] - ETA: 0s - loss: 1.1489e-04 - accuracy: 1.0000 - balanced_acc: 0.9982\n",
            "Epoch 27: val_balanced_acc did not improve from 0.95232\n",
            "781/781 [==============================] - 219s 281ms/step - loss: 1.1489e-04 - accuracy: 1.0000 - balanced_acc: 0.9982 - val_loss: 0.3001 - val_accuracy: 0.9541 - val_balanced_acc: 0.9518 - lr: 0.0010\n",
            "Epoch 28/100\n",
            "781/781 [==============================] - ETA: 0s - loss: 1.0873e-04 - accuracy: 1.0000 - balanced_acc: 0.9985\n",
            "Epoch 28: ReduceLROnPlateau reducing learning rate to 0.0005000000237487257.\n",
            "\n",
            "Epoch 28: val_balanced_acc did not improve from 0.95232\n",
            "781/781 [==============================] - 219s 280ms/step - loss: 1.0873e-04 - accuracy: 1.0000 - balanced_acc: 0.9985 - val_loss: 0.3019 - val_accuracy: 0.9543 - val_balanced_acc: 0.9520 - lr: 0.0010\n",
            "Epoch 29/100\n",
            "781/781 [==============================] - ETA: 0s - loss: 1.0003e-04 - accuracy: 1.0000 - balanced_acc: 0.9991\n",
            "Epoch 29: val_balanced_acc did not improve from 0.95232\n",
            "781/781 [==============================] - 219s 281ms/step - loss: 1.0003e-04 - accuracy: 1.0000 - balanced_acc: 0.9991 - val_loss: 0.3034 - val_accuracy: 0.9541 - val_balanced_acc: 0.9517 - lr: 5.0000e-04\n",
            "Epoch 30/100\n",
            "781/781 [==============================] - ETA: 0s - loss: 1.0005e-04 - accuracy: 1.0000 - balanced_acc: 0.9991\n",
            "Epoch 30: val_balanced_acc did not improve from 0.95232\n",
            "781/781 [==============================] - 219s 280ms/step - loss: 1.0005e-04 - accuracy: 1.0000 - balanced_acc: 0.9991 - val_loss: 0.3044 - val_accuracy: 0.9540 - val_balanced_acc: 0.9516 - lr: 5.0000e-04\n",
            "Epoch 31/100\n",
            "781/781 [==============================] - ETA: 0s - loss: 9.5882e-05 - accuracy: 1.0000 - balanced_acc: 0.9992\n",
            "Epoch 31: val_balanced_acc did not improve from 0.95232\n",
            "781/781 [==============================] - 219s 280ms/step - loss: 9.5882e-05 - accuracy: 1.0000 - balanced_acc: 0.9992 - val_loss: 0.3054 - val_accuracy: 0.9542 - val_balanced_acc: 0.9518 - lr: 5.0000e-04\n",
            "Epoch 32/100\n",
            "781/781 [==============================] - ETA: 0s - loss: 9.2344e-05 - accuracy: 1.0000 - balanced_acc: 0.9991\n",
            "Epoch 32: val_balanced_acc did not improve from 0.95232\n",
            "781/781 [==============================] - 219s 280ms/step - loss: 9.2344e-05 - accuracy: 1.0000 - balanced_acc: 0.9991 - val_loss: 0.3064 - val_accuracy: 0.9538 - val_balanced_acc: 0.9514 - lr: 5.0000e-04\n",
            "Epoch 33/100\n",
            "781/781 [==============================] - ETA: 0s - loss: 9.2409e-05 - accuracy: 1.0000 - balanced_acc: 0.9990\n",
            "Epoch 33: val_balanced_acc did not improve from 0.95232\n",
            "781/781 [==============================] - 219s 280ms/step - loss: 9.2409e-05 - accuracy: 1.0000 - balanced_acc: 0.9990 - val_loss: 0.3073 - val_accuracy: 0.9541 - val_balanced_acc: 0.9518 - lr: 5.0000e-04\n",
            "Epoch 34/100\n",
            "781/781 [==============================] - ETA: 0s - loss: 8.9294e-05 - accuracy: 1.0000 - balanced_acc: 0.9981\n",
            "Epoch 34: val_balanced_acc did not improve from 0.95232\n",
            "781/781 [==============================] - 219s 280ms/step - loss: 8.9294e-05 - accuracy: 1.0000 - balanced_acc: 0.9981 - val_loss: 0.3081 - val_accuracy: 0.9539 - val_balanced_acc: 0.9516 - lr: 5.0000e-04\n",
            "Epoch 35/100\n",
            "781/781 [==============================] - ETA: 0s - loss: 8.6829e-05 - accuracy: 1.0000 - balanced_acc: 0.9982\n",
            "Epoch 35: val_balanced_acc did not improve from 0.95232\n",
            "781/781 [==============================] - 219s 280ms/step - loss: 8.6829e-05 - accuracy: 1.0000 - balanced_acc: 0.9982 - val_loss: 0.3090 - val_accuracy: 0.9538 - val_balanced_acc: 0.9514 - lr: 5.0000e-04\n",
            "Epoch 36/100\n",
            "781/781 [==============================] - ETA: 0s - loss: 8.4456e-05 - accuracy: 1.0000 - balanced_acc: 0.9988\n",
            "Epoch 36: val_balanced_acc did not improve from 0.95232\n",
            "781/781 [==============================] - 219s 280ms/step - loss: 8.4456e-05 - accuracy: 1.0000 - balanced_acc: 0.9988 - val_loss: 0.3099 - val_accuracy: 0.9540 - val_balanced_acc: 0.9517 - lr: 5.0000e-04\n",
            "Epoch 37/100\n",
            "781/781 [==============================] - ETA: 0s - loss: 8.4217e-05 - accuracy: 1.0000 - balanced_acc: 0.9990\n",
            "Epoch 37: val_balanced_acc did not improve from 0.95232\n",
            "781/781 [==============================] - 219s 280ms/step - loss: 8.4217e-05 - accuracy: 1.0000 - balanced_acc: 0.9990 - val_loss: 0.3107 - val_accuracy: 0.9542 - val_balanced_acc: 0.9519 - lr: 5.0000e-04\n",
            "Epoch 38/100\n",
            "781/781 [==============================] - ETA: 0s - loss: 8.0965e-05 - accuracy: 1.0000 - balanced_acc: 0.9982\n",
            "Epoch 38: ReduceLROnPlateau reducing learning rate to 0.0002500000118743628.\n",
            "\n",
            "Epoch 38: val_balanced_acc did not improve from 0.95232\n",
            "781/781 [==============================] - 219s 280ms/step - loss: 8.0965e-05 - accuracy: 1.0000 - balanced_acc: 0.9982 - val_loss: 0.3117 - val_accuracy: 0.9544 - val_balanced_acc: 0.9520 - lr: 5.0000e-04\n",
            "Epoch 39/100\n",
            "781/781 [==============================] - ETA: 0s - loss: 7.8988e-05 - accuracy: 1.0000 - balanced_acc: 0.9981\n",
            "Epoch 39: val_balanced_acc did not improve from 0.95232\n",
            "781/781 [==============================] - 219s 280ms/step - loss: 7.8988e-05 - accuracy: 1.0000 - balanced_acc: 0.9981 - val_loss: 0.3121 - val_accuracy: 0.9542 - val_balanced_acc: 0.9519 - lr: 2.5000e-04\n",
            "Epoch 40/100\n",
            "781/781 [==============================] - ETA: 0s - loss: 7.9014e-05 - accuracy: 1.0000 - balanced_acc: 0.9995\n",
            "Epoch 40: val_balanced_acc did not improve from 0.95232\n",
            "781/781 [==============================] - 219s 280ms/step - loss: 7.9014e-05 - accuracy: 1.0000 - balanced_acc: 0.9995 - val_loss: 0.3125 - val_accuracy: 0.9541 - val_balanced_acc: 0.9518 - lr: 2.5000e-04\n",
            "Epoch 41/100\n",
            "781/781 [==============================] - ETA: 0s - loss: 7.6958e-05 - accuracy: 1.0000 - balanced_acc: 0.9986\n",
            "Epoch 41: val_balanced_acc did not improve from 0.95232\n",
            "781/781 [==============================] - 219s 280ms/step - loss: 7.6958e-05 - accuracy: 1.0000 - balanced_acc: 0.9986 - val_loss: 0.3128 - val_accuracy: 0.9539 - val_balanced_acc: 0.9517 - lr: 2.5000e-04\n",
            "Epoch 42/100\n",
            "781/781 [==============================] - ETA: 0s - loss: 7.6503e-05 - accuracy: 1.0000 - balanced_acc: 0.9987\n",
            "Epoch 42: val_balanced_acc did not improve from 0.95232\n",
            "781/781 [==============================] - 219s 281ms/step - loss: 7.6503e-05 - accuracy: 1.0000 - balanced_acc: 0.9987 - val_loss: 0.3132 - val_accuracy: 0.9539 - val_balanced_acc: 0.9517 - lr: 2.5000e-04\n",
            "Epoch 43/100\n",
            "781/781 [==============================] - ETA: 0s - loss: 7.5713e-05 - accuracy: 1.0000 - balanced_acc: 0.9988\n",
            "Epoch 43: val_balanced_acc did not improve from 0.95232\n",
            "781/781 [==============================] - 219s 281ms/step - loss: 7.5713e-05 - accuracy: 1.0000 - balanced_acc: 0.9988 - val_loss: 0.3135 - val_accuracy: 0.9541 - val_balanced_acc: 0.9518 - lr: 2.5000e-04\n",
            "Epoch 44/100\n",
            "781/781 [==============================] - ETA: 0s - loss: 7.4055e-05 - accuracy: 1.0000 - balanced_acc: 0.9982\n",
            "Epoch 44: val_balanced_acc did not improve from 0.95232\n",
            "781/781 [==============================] - 219s 281ms/step - loss: 7.4055e-05 - accuracy: 1.0000 - balanced_acc: 0.9982 - val_loss: 0.3140 - val_accuracy: 0.9540 - val_balanced_acc: 0.9517 - lr: 2.5000e-04\n",
            "Epoch 45/100\n",
            "781/781 [==============================] - ETA: 0s - loss: 7.4329e-05 - accuracy: 1.0000 - balanced_acc: 0.9990\n",
            "Epoch 45: val_balanced_acc did not improve from 0.95232\n",
            "781/781 [==============================] - 219s 281ms/step - loss: 7.4329e-05 - accuracy: 1.0000 - balanced_acc: 0.9990 - val_loss: 0.3145 - val_accuracy: 0.9543 - val_balanced_acc: 0.9520 - lr: 2.5000e-04\n",
            "Epoch 46/100\n",
            "781/781 [==============================] - ETA: 0s - loss: 7.3658e-05 - accuracy: 1.0000 - balanced_acc: 0.9986\n",
            "Epoch 46: val_balanced_acc did not improve from 0.95232\n",
            "781/781 [==============================] - 219s 281ms/step - loss: 7.3658e-05 - accuracy: 1.0000 - balanced_acc: 0.9986 - val_loss: 0.3148 - val_accuracy: 0.9540 - val_balanced_acc: 0.9518 - lr: 2.5000e-04\n",
            "Epoch 47/100\n",
            "781/781 [==============================] - ETA: 0s - loss: 7.2443e-05 - accuracy: 1.0000 - balanced_acc: 0.9991\n",
            "Epoch 47: val_balanced_acc did not improve from 0.95232\n",
            "781/781 [==============================] - 219s 281ms/step - loss: 7.2443e-05 - accuracy: 1.0000 - balanced_acc: 0.9991 - val_loss: 0.3152 - val_accuracy: 0.9542 - val_balanced_acc: 0.9519 - lr: 2.5000e-04\n",
            "Epoch 48/100\n",
            "781/781 [==============================] - ETA: 0s - loss: 7.1607e-05 - accuracy: 1.0000 - balanced_acc: 0.9982\n",
            "Epoch 48: ReduceLROnPlateau reducing learning rate to 0.0001250000059371814.\n",
            "\n",
            "Epoch 48: val_balanced_acc did not improve from 0.95232\n",
            "781/781 [==============================] - 229s 293ms/step - loss: 7.1607e-05 - accuracy: 1.0000 - balanced_acc: 0.9982 - val_loss: 0.3156 - val_accuracy: 0.9542 - val_balanced_acc: 0.9519 - lr: 2.5000e-04\n"
          ]
        }
      ],
      "source": [
        "# define model\n",
        "model = define_base_model()\n",
        "hst = model.fit(X_train, y_train, epochs=EPOCHS, batch_size=BATCH_SIZE, validation_data=(X_val, y_val), verbose=1,\n",
        "                    steps_per_epoch=X_train.shape[0] // BATCH_SIZE, \n",
        "                    callbacks=[learning_rate_reduction,early_stopping_monitor, mc])\n",
        "# learning curves\n",
        "summarize_diagnostics(hst)"
      ]
    },
    {
      "cell_type": "code",
      "execution_count": null,
      "metadata": {
        "id": "rwwLiXUSG0IZ"
      },
      "outputs": [],
      "source": [
        "#Training\n",
        "#hst = model.fit(train_data_batches,\n",
        "#                    epochs = EPOCHS, validation_data = valid_data_batches,      \n",
        "                    #steps_per_epoch=X_train.shape[0] // BATCH_SIZE, \n",
        "#                    callbacks=[learning_rate_reduction,early_stopping_monitor, mc])\n"
      ]
    },
    {
      "cell_type": "code",
      "execution_count": 31,
      "metadata": {
        "colab": {
          "base_uri": "https://localhost:8080/",
          "height": 295
        },
        "id": "vXnW3lmCgln3",
        "outputId": "6838399d-61ac-4849-a269-e232f8aafbbd"
      },
      "outputs": [
        {
          "output_type": "display_data",
          "data": {
            "text/plain": [
              "<Figure size 432x288 with 1 Axes>"
            ],
            "image/png": "[encoded data removed]"
          },
          "metadata": {
            "needs_background": "light"
          }
        }
      ],
      "source": [
        "# summarize history for accuracy\n",
        "plt.plot(hst.history['accuracy'])\n",
        "plt.plot(hst.history['balanced_acc'])\n",
        "plt.plot(hst.history['val_accuracy'])\n",
        "plt.plot(hst.history['val_balanced_acc'])\n",
        "plt.title('Model accuracy')\n",
        "plt.ylabel('Performance')\n",
        "plt.xlabel('epoch')\n",
        "plt.legend(['train accuracy', 'train balanced acc.', 'val. accuracy', 'val. balanced acc.'], loc='lower right')\n",
        "plt.show()"
      ]
    },
    {
      "cell_type": "markdown",
      "metadata": {
        "id": "icgjmi-4UIT-"
      },
      "source": [
        "#Evaluate"
      ]
    },
    {
      "cell_type": "code",
      "execution_count": 32,
      "metadata": {
        "id": "SPz8NH1Oylv9"
      },
      "outputs": [],
      "source": [
        "#save last model\n",
        "model.save(last_model_fpath)"
      ]
    },
    {
      "cell_type": "code",
      "execution_count": 33,
      "metadata": {
        "colab": {
          "base_uri": "https://localhost:8080/"
        },
        "id": "lS3ewyxO_anU",
        "outputId": "5b96e362-6d38-4878-8aad-8a69ef41370c"
      },
      "outputs": [
        {
          "output_type": "stream",
          "name": "stdout",
          "text": [
            "accuracy on training 1.0\n",
            "balanced accuracy on training 1.0\n",
            "accuracy on validation 0.9542\n",
            "balanced accuracy on validation 0.9541999999999999\n",
            "Score on val data:  (0.9542369334238965, 0.9541999999999999, 0.954196765905644, None)\n"
          ]
        }
      ],
      "source": [
        "last_model = load_model(last_model_fpath, custom_objects={'balanced_acc' : balanced_acc})\n",
        "y_train_pred = last_model.predict(X_train)\n",
        "y_val_pred = last_model.predict(X_val)\n",
        "\n",
        "#print('accuracy on training',accuracy_score(np.argmax(y_train, axis=1), np.argmax(y_train_pred, axis=1)))\n",
        "print('accuracy on training',accuracy_score(np.argmax(y_train, axis=1), np.argmax(y_train_pred, axis=1)))\n",
        "print('balanced accuracy on training',balanced_accuracy_score(np.argmax(y_train, axis=1), np.argmax(y_train_pred, axis=1)))\n",
        "print('accuracy on validation',accuracy_score(np.argmax(y_val, axis=1), np.argmax(y_val_pred, axis=1)))\n",
        "print('balanced accuracy on validation',balanced_accuracy_score(np.argmax(y_val, axis=1), np.argmax(y_val_pred, axis=1)))\n",
        "print('Score on val data: ',precision_recall_fscore_support(np.argmax(y_val, axis=1), np.argmax(y_val_pred, axis=1), average='macro'))"
      ]
    },
    {
      "cell_type": "code",
      "execution_count": null,
      "metadata": {
        "id": "W3IyWjdGG4Xq"
      },
      "outputs": [],
      "source": [
        "best_model = load_model(best_model_fpath, custom_objects={'balanced_acc' : balanced_acc})\n",
        "y_train_pred = best_model.predict(X_train)\n",
        "y_val_pred = best_model.predict(X_val)\n",
        "\n",
        "print('accuracy on training',accuracy_score(np.argmax(y_train, axis=1), np.argmax(y_train_pred, axis=1)))\n",
        "print('balanced accuracy on training',balanced_accuracy_score(np.argmax(y_train, axis=1), np.argmax(y_train_pred, axis=1)))\n",
        "print('accuracy on validation',accuracy_score(np.argmax(y_val, axis=1), np.argmax(y_val_pred, axis=1)))\n",
        "print('balanced accuracy on validation',balanced_accuracy_score(np.argmax(y_val, axis=1), np.argmax(y_val_pred, axis=1)))\n",
        "print('Score on val data: ',precision_recall_fscore_support(np.argmax(y_val, axis=1), np.argmax(y_val_pred, axis=1), average='macro'))"
      ]
    },
    {
      "cell_type": "markdown",
      "metadata": {
        "id": "iDRWiTnO0MGh"
      },
      "source": [
        "#Cut-off"
      ]
    },
    {
      "cell_type": "code",
      "execution_count": null,
      "metadata": {
        "id": "tGnCoIdLyDHS"
      },
      "outputs": [],
      "source": [
        "df_train_pred = pd.DataFrame(y_train_pred, columns = ['AKIEC', 'BCC', 'BKL', 'DF', 'MEL', 'NV', 'VASC'])"
      ]
    },
    {
      "cell_type": "code",
      "execution_count": null,
      "metadata": {
        "id": "QdyCbloQyWTC"
      },
      "outputs": [],
      "source": [
        "numbers = [float(x)/20 for x in range(11)]\n",
        "\n",
        "for i in numbers:\n",
        "    df_train_pred[i]= df_train_pred.MEL.map(lambda x: 1 if x > i else 0)\n",
        "df_train_pred.head()"
      ]
    },
    {
      "cell_type": "code",
      "execution_count": null,
      "metadata": {
        "id": "G4SQsRx73kgk"
      },
      "outputs": [],
      "source": [
        "y_train_true= [1 if x == 4 else 0 for x in np.argmax(y_train, axis=1)]"
      ]
    },
    {
      "cell_type": "code",
      "execution_count": null,
      "metadata": {
        "id": "QcUISWFi0J05"
      },
      "outputs": [],
      "source": [
        "num = [0.0,0.05,0.1,0.15,0.2,0.25,0.3,0.35,0.4,0.45,0.5]\n",
        "cutoff_df = pd.DataFrame( columns = ['Probability','Accuracy','Sensitivity','Specificity'])\n",
        "for i in num:\n",
        "    cm1 = confusion_matrix(y_train_true, df_train_pred[i])\n",
        "    total1=sum(sum(cm1))\n",
        "    Accuracy = (cm1[0,0]+cm1[1,1])/total1\n",
        "    Specificity = cm1[0,0]/(cm1[0,0]+cm1[0,1])\n",
        "    Sensitivity = cm1[1,1]/(cm1[1,0]+cm1[1,1])\n",
        "    cutoff_df.loc[i] =[ i ,Accuracy,Sensitivity,Specificity]"
      ]
    },
    {
      "cell_type": "code",
      "execution_count": null,
      "metadata": {
        "id": "W31LSzov1tCt"
      },
      "outputs": [],
      "source": [
        "cutoff_df[['Accuracy','Sensitivity','Specificity']].plot()\n",
        "\n",
        "plt.show()"
      ]
    },
    {
      "cell_type": "code",
      "execution_count": null,
      "metadata": {
        "id": "P6CIKT94Jqye"
      },
      "outputs": [],
      "source": [
        "i = 0.05\n",
        "cm1 = confusion_matrix(y_train_true, df_train_pred[i])\n",
        "total1=sum(sum(cm1))\n",
        "Accuracy = (cm1[0,0]+cm1[1,1])/total1\n",
        "Specificity = cm1[0,0]/(cm1[0,0]+cm1[0,1])\n",
        "Sensitivity = cm1[1,1]/(cm1[1,0]+cm1[1,1])"
      ]
    },
    {
      "cell_type": "code",
      "execution_count": null,
      "metadata": {
        "id": "3U2tkFebL_VC"
      },
      "outputs": [],
      "source": [
        "print('Accuracy: ', Accuracy)\n",
        "print('Sensitivity: ', Sensitivity)\n",
        "print('Specificity: ', Specificity)"
      ]
    },
    {
      "cell_type": "markdown",
      "metadata": {
        "id": "eaK4zbtoaAaC"
      },
      "source": [
        "#Confusion Metric on Validation Set"
      ]
    },
    {
      "cell_type": "code",
      "execution_count": null,
      "metadata": {
        "id": "YkPOFLehOmFg"
      },
      "outputs": [],
      "source": [
        "#change melanoma flag back to 4\n",
        "df_train_pred[df_train_pred[i] == 1] = 4\n",
        "#decode one-hot y_val_pred while use cut-off melanoma data\n",
        "condition = df_train_pred[i] == 4\n",
        "y_train_pred2 = np.where(condition, df_train_pred[i], np.argmax(y_train_pred, axis=1))"
      ]
    },
    {
      "cell_type": "code",
      "execution_count": null,
      "metadata": {
        "id": "LOVl6dWlTDLo"
      },
      "outputs": [],
      "source": [
        "print('Accuracy: ',accuracy_score(np.argmax(y_train, axis=1), y_train_pred2))\n",
        "print('Balanced accuracy: ',balanced_accuracy_score(np.argmax(y_train, axis=1), y_train_pred2))"
      ]
    },
    {
      "cell_type": "code",
      "execution_count": null,
      "metadata": {
        "id": "mqvYutTKRhR_"
      },
      "outputs": [],
      "source": [
        "#Get the confusion matrix\n",
        "cf_matrix = confusion_matrix(np.argmax(y_train, axis=1), y_train_pred2)\n",
        "print(cf_matrix)"
      ]
    },
    {
      "cell_type": "code",
      "execution_count": null,
      "metadata": {
        "id": "gVtvW3YeaLlC"
      },
      "outputs": [],
      "source": [
        "ax = sns.heatmap(cf_matrix / cf_matrix.sum(axis=1, keepdims=True), annot=True, \n",
        "            cmap='Blues')\n",
        "\n",
        "ax.set_title('Confusion Matrix \\n');\n",
        "ax.set_xlabel('\\nPredicted')\n",
        "ax.set_ylabel('Actual ');\n",
        "\n",
        "## Ticket labels - List must be in alphabetical order\n",
        "ax.xaxis.set_ticklabels(['AKIEC', 'BCC', 'BKL', 'DF', 'MEL', 'NV', 'VASC'])\n",
        "ax.yaxis.set_ticklabels(['AKIEC', 'BCC', 'BKL', 'DF', 'MEL', 'NV', 'VASC'])\n",
        "\n",
        "plt.rcParams[\"figure.figsize\"] = (15,3)\n",
        "\n",
        "## Display the visualization of the Confusion Matrix.\n",
        "plt.xticks(rotation=45, ha='right')\n",
        "plt.yticks(rotation=0, ha='right')\n",
        "plt.show()"
      ]
    },
    {
      "cell_type": "code",
      "execution_count": null,
      "metadata": {
        "id": "Ey-1yjWGeKs7"
      },
      "outputs": [],
      "source": [
        "# ordered count of rows per unique label\n",
        "labels_count = df_val['Labels'].value_counts().sort_index()\n",
        "\n",
        "f = plt.figure(figsize=(15, 6))\n",
        "s = sns.barplot(x=labels_count.index,y=labels_count.values)\n",
        "s.set_xticklabels(s.get_xticklabels(), rotation = 30)"
      ]
    },
    {
      "cell_type": "markdown",
      "metadata": {
        "id": "3K908bbiYwbS"
      },
      "source": [
        "#Testing"
      ]
    },
    {
      "cell_type": "code",
      "execution_count": null,
      "metadata": {
        "id": "NeMY2yvMYxsC"
      },
      "outputs": [],
      "source": [
        "dir_test = '/content/drive/MyDrive/PHD/Datasets/isic2018/ISIC2018_Task3_Test_Input/'\n",
        "filepaths = sorted( filter( lambda x: (os.path.isfile(os.path.join(dir_test, x))) and (x.endswith('.jpg')),\n",
        "                        os.listdir(dir_test) ) )"
      ]
    },
    {
      "cell_type": "code",
      "execution_count": null,
      "metadata": {
        "id": "6ic95mefkpG3"
      },
      "outputs": [],
      "source": [
        "df_test = pd.DataFrame(filepaths, columns =['image'])\n",
        "df_test['FilePaths'] = dir_test + df_test['image']\n",
        "#df_test"
      ]
    },
    {
      "cell_type": "code",
      "execution_count": null,
      "metadata": {
        "id": "NBa1TxPuY8ni"
      },
      "outputs": [],
      "source": [
        "df_test['image_px'] = df_test['FilePaths'].map(lambda x: np.asarray(Image.open(x).resize(IMG_SIZE)))"
      ]
    },
    {
      "cell_type": "code",
      "execution_count": null,
      "metadata": {
        "id": "60LYAT7VsNOZ"
      },
      "outputs": [],
      "source": [
        "X_test = np.asarray(df_test['image_px'].tolist())\n",
        "print(np.array(X_test).shape)"
      ]
    },
    {
      "cell_type": "code",
      "execution_count": null,
      "metadata": {
        "id": "cXnnIIwC4cHE"
      },
      "outputs": [],
      "source": [
        "#preprocess\n",
        "X_test = preprocess_image_input(X_test)"
      ]
    },
    {
      "cell_type": "markdown",
      "metadata": {
        "id": "FF7ml90JZ8FK"
      },
      "source": [
        "Calculate y_pred from training and testing for analysis"
      ]
    },
    {
      "cell_type": "code",
      "execution_count": null,
      "metadata": {
        "id": "dIX0AmEFNv3Y"
      },
      "outputs": [],
      "source": [
        "# predicting\n",
        "#CHANGE THE MODEL IF NECESSARY\n",
        "Y_pred2 = best_model.predict(X_test)\n",
        "print(\"Y_pred2\", Y_pred2.shape)"
      ]
    },
    {
      "cell_type": "code",
      "execution_count": null,
      "metadata": {
        "id": "7oeArO5CtxGb"
      },
      "outputs": [],
      "source": [
        "df_pred = pd.DataFrame(Y_pred2, columns = ['AKIEC', 'BCC', 'BKL', 'DF', 'MEL', 'NV', 'VASC'])\n",
        "df_pred['image'] = df_test['FilePaths'].map(lambda x: x.replace(dir_test, '').replace('.jpg', ''))\n",
        "df_pred = df_pred[['image', 'MEL', 'NV', 'BCC', 'AKIEC', 'BKL', 'DF', 'VASC']]\n",
        "df_pred.set_index(\"image\", inplace = True)"
      ]
    },
    {
      "cell_type": "code",
      "execution_count": null,
      "metadata": {
        "id": "9ynyd8PjT589"
      },
      "outputs": [],
      "source": [
        "#update MEL data using cut-off value\n",
        "df_pred.MEL[df_pred.MEL > i] = 1"
      ]
    },
    {
      "cell_type": "code",
      "execution_count": null,
      "metadata": {
        "id": "fjRdONoQVMq0"
      },
      "outputs": [],
      "source": [
        "df_pred.loc[df_pred.MEL > i, ['NV', 'BCC', 'AKIEC', 'BKL', 'DF', 'VASC']] = 0"
      ]
    },
    {
      "cell_type": "code",
      "execution_count": null,
      "metadata": {
        "id": "sOnjc3RJ0e4T"
      },
      "outputs": [],
      "source": [
        "df_pred.to_csv('/content/drive/MyDrive/PHD/Datasets/isic2018/response_SMOTEOversampling_cut-off_val-split.csv')"
      ]
    },
    {
      "cell_type": "markdown",
      "metadata": {
        "id": "RcRGeofw-8tK"
      },
      "source": [
        "#Load ISIC 2018 Challange Data"
      ]
    },
    {
      "cell_type": "code",
      "execution_count": null,
      "metadata": {
        "id": "l3P7IjyLuZGY"
      },
      "outputs": [],
      "source": [
        "X_train, y_train, X_val, y_val = load_isic2018_dataset(train_under_frac = 0.7)"
      ]
    },
    {
      "cell_type": "code",
      "execution_count": null,
      "metadata": {
        "colab": {
          "base_uri": "https://localhost:8080/",
          "height": 512
        },
        "id": "2IncA-_o_n5w",
        "outputId": "6db08704-addd-42d9-9371-4d805a2db101"
      },
      "outputs": [
        {
          "data": {
            "text/plain": [
              "[Text(0, 0, 'DF'),\n",
              " Text(0, 0, 'VASC'),\n",
              " Text(0, 0, 'AKIEC'),\n",
              " Text(0, 0, 'BCC'),\n",
              " Text(0, 0, 'BKL'),\n",
              " Text(0, 0, 'MEL'),\n",
              " Text(0, 0, 'NV')]"
            ]
          },
          "execution_count": 5,
          "metadata": {},
          "output_type": "execute_result"
        },
        {
          "data": {
            "image/png": "[encoded data removed]",
            "text/plain": [
              "<Figure size 1080x432 with 1 Axes>"
            ]
          },
          "metadata": {},
          "output_type": "display_data"
        }
      ],
      "source": [
        "# ordered count of rows per unique label\n",
        "labels_count = y_train.value_counts(ascending=True)\n",
        "\n",
        "f = plt.figure(figsize=(15, 6))\n",
        "s = sns.barplot(x=labels_count.index,y=labels_count.values)\n",
        "s.set_xticklabels(s.get_xticklabels(), rotation = 30)"
      ]
    },
    {
      "cell_type": "markdown",
      "metadata": {
        "id": "AnKMKSb4Bkym"
      },
      "source": [
        "Plot 3 images per label"
      ]
    },
    {
      "cell_type": "code",
      "execution_count": null,
      "metadata": {
        "id": "jdnVuqbFBW3K"
      },
      "outputs": [],
      "source": [
        "def plot_images_per_label(df, label, cols: int, size: tuple):\n",
        "    fig, axs = plt.subplots(nrows=1, ncols=cols, figsize=size)\n",
        "\n",
        "    cntMax = cols\n",
        "    cntCur = 0\n",
        "    for index, row in df.iterrows():\n",
        "        if(y_train == label and cntCur < cntMax):\n",
        "            axs[cntCur].imshow(plt.imread(df.FilePaths[index]))\n",
        "            axs[cntCur].set_title(df.Labels[index])\n",
        "\n",
        "            cntCur += 1\n",
        "        else:\n",
        "            if(cntCur >= cntMax):\n",
        "                break\n",
        "    \n",
        "    plt.tight_layout()\n",
        "    plt.show()\n",
        "\n",
        "\n",
        "# unique labels\n",
        "#labels = sorted(df_train['Labels'].unique())\n",
        "#for label in range(7):\n",
        "#    plot_images_per_label(y_train, 3, (12,9))"
      ]
    },
    {
      "cell_type": "markdown",
      "metadata": {
        "id": "qRKKrNacAZtl"
      },
      "source": [
        "Drop duplicate images"
      ]
    },
    {
      "cell_type": "code",
      "execution_count": null,
      "metadata": {
        "id": "ERwfyPDHP-zC"
      },
      "outputs": [],
      "source": [
        "#df_group = pd.read_csv('/content/drive/MyDrive/PHD/Datasets/isic2018/ISIC2018_Task3_Training_LesionGroupings.csv') \n",
        "#df_train = df_train.set_index('image').join(df_group.set_index('image'))\n",
        "#df_train = df_train.drop_duplicates(subset=['lesion_id'])"
      ]
    },
    {
      "cell_type": "markdown",
      "metadata": {
        "id": "cNBXx28B9yGu"
      },
      "source": [
        "#DeepSMOTE Oversampling"
      ]
    },
    {
      "cell_type": "code",
      "execution_count": null,
      "metadata": {
        "id": "YmX_Uqbmj-tN"
      },
      "outputs": [],
      "source": [
        "from numpy import moveaxis\n",
        "from sklearn.neighbors import NearestNeighbors\n",
        "import torch\n",
        "import torch.nn as nn\n",
        "\n",
        "max_el = np.inf\n",
        "\n",
        "args = {}\n",
        "args['dim_h'] = 64         # factor controlling size of hidden layers\n",
        "args['n_channel'] = 3#1    # number of channels in the input data \n",
        "args['n_z'] = 600 #300     # number of dimensions in latent space. \n",
        "args['sigma'] = 1.0        # variance in n_z\n",
        "args['lambda'] = 0.01      # hyper param for weight of discriminator loss\n",
        "args['lr'] = 0.0002        # learning rate for Adam optimizer .000\n",
        "args['epochs'] = 300       # how many epochs to run for\n",
        "args['batch_size'] = 100   # batch size for SGD\n",
        "args['save'] = True        # save weights at each epoch of training if True\n",
        "args['train'] = True       # train networks if True, else load networks from\n",
        "args['patience'] = 20"
      ]
    },
    {
      "cell_type": "code",
      "execution_count": null,
      "metadata": {
        "id": "NydOdPMajEfT"
      },
      "outputs": [],
      "source": [
        "class Encoder(nn.Module):\n",
        "    def __init__(self, args):\n",
        "        super(Encoder, self).__init__()\n",
        "\n",
        "        self.n_channel = args['n_channel']\n",
        "        self.dim_h = args['dim_h']\n",
        "        self.n_z = args['n_z']\n",
        "        \n",
        "        # convolutional filters, work excellent with image data\n",
        "        # [(W−K+2P)/S]+1\n",
        "        self.conv = nn.Sequential(\n",
        "            nn.AvgPool2d(7, stride=7),\n",
        "            nn.Conv2d(self.n_channel, self.dim_h, 4, 2, 1, bias=False),# 16\n",
        "            nn.LeakyReLU(0.2, inplace=True),\n",
        "            nn.Conv2d(self.dim_h, self.dim_h * 2, 4, 2, 1, bias=False), # 8\n",
        "            nn.BatchNorm2d(self.dim_h * 2),\n",
        "            nn.LeakyReLU(0.2, inplace=True),\n",
        "            nn.Conv2d(self.dim_h * 2, self.dim_h * 4, 4, 2, 1, bias=False),# 4\n",
        "            nn.BatchNorm2d(self.dim_h * 4),\n",
        "            nn.LeakyReLU(0.2, inplace=True),\n",
        "            nn.Conv2d(self.dim_h * 4, self.dim_h * 8, 4, 2, 0, bias=False),#14\n",
        "            nn.BatchNorm2d(self.dim_h * 8),\n",
        "            nn.LeakyReLU(0.2, inplace=True))\n",
        "        self.fc = nn.Linear(self.dim_h * (2 ** 3), self.n_z)\n",
        "\n",
        "    def forward(self, x):\n",
        "        x = self.conv(x)\n",
        "        \n",
        "        x = x.squeeze()\n",
        "        x = self.fc(x)\n",
        "        return x\n",
        "\n",
        "\n",
        "class Decoder(nn.Module):\n",
        "    def __init__(self, args):\n",
        "        super(Decoder, self).__init__()\n",
        "\n",
        "        self.n_channel = args['n_channel']\n",
        "        self.dim_h = args['dim_h']\n",
        "        self.n_z = args['n_z']\n",
        "\n",
        "        # first layer is fully connected\n",
        "        self.fc = nn.Sequential(\n",
        "            nn.Linear(self.n_z, self.dim_h * 2**3 * 7 * 7),\n",
        "            nn.ReLU())\n",
        "\n",
        "        # deconvolutional filters, essentially inverse of convolutional filters\n",
        "        # H_out ​= (H_in​−1)*stride[0] − 2×padding[0] + dilation[0]×(kernel_size[0]−1) + output_padding[0] + 1\n",
        "        self.deconv = nn.Sequential(\n",
        "            nn.ConvTranspose2d(self.dim_h * 8, self.dim_h * 4, 4), #10\n",
        "            nn.BatchNorm2d(self.dim_h * 4),\n",
        "            nn.ReLU(True),\n",
        "            nn.ConvTranspose2d(self.dim_h * 4, self.dim_h * 2, 4), #13\n",
        "            nn.BatchNorm2d(self.dim_h * 2),\n",
        "            nn.ReLU(True),\n",
        "            nn.ConvTranspose2d(self.dim_h * 2, self.dim_h, 4),# 16\n",
        "            nn.BatchNorm2d(self.dim_h),\n",
        "            nn.ReLU(True),\n",
        "            nn.ConvTranspose2d(self.dim_h, 3, 4, 2, 1),# 32\n",
        "            nn.UpsamplingBilinear2d(scale_factor=7),\n",
        "            nn.Tanh())\n",
        "\n",
        "    def forward(self, x):\n",
        "        x = self.fc(x)\n",
        "        x = x.view(-1, self.dim_h * 2**3, 7, 7)\n",
        "        x = self.deconv(x)\n",
        "        return x\n",
        "\n",
        "##############################################################################\n",
        "\"\"\"set models, loss functions\"\"\"\n",
        "# control which parameters are frozen / free for optimization\n",
        "def free_params(module: nn.Module):\n",
        "    for p in module.parameters():\n",
        "        p.requires_grad = True\n",
        "\n",
        "def frozen_params(module: nn.Module):\n",
        "    for p in module.parameters():\n",
        "        p.requires_grad = False\n",
        "\n",
        "def biased_get_class(X, y, c):\n",
        "    \n",
        "    xbeg = X[y == c]\n",
        "    ybeg = y[y == c]\n",
        "    \n",
        "    return xbeg, ybeg\n",
        "    #return xclass, yclass\n",
        "\n",
        "def G_SM(X, y,n_to_sample,cl):\n",
        "    n_neigh = 5\n",
        "    nn = NearestNeighbors(n_neighbors=n_neigh, n_jobs=1)\n",
        "    nn.fit(X)\n",
        "    dist, ind = nn.kneighbors(X)\n",
        "\n",
        "    # generating samples\n",
        "    base_indices = np.random.choice(list(range(len(X))),n_to_sample)\n",
        "    neighbor_indices = np.random.choice(list(range(1, n_neigh)),n_to_sample)\n",
        "\n",
        "    X_base = X[base_indices]\n",
        "    X_neighbor = X[ind[base_indices, neighbor_indices]]\n",
        "\n",
        "    samples = X_base + np.multiply(np.random.rand(n_to_sample,1),\n",
        "            X_neighbor - X_base)\n",
        "\n",
        "    #use 10 as label because 0 to 9 real classes and 1 fake/smoted = 10\n",
        "    return samples, [cl]*n_to_sample\n",
        "\n",
        "def DeepSMOTE_train(X_train, y_train, one_hot = False):\n",
        "  from torch.utils.data import TensorDataset\n",
        "  import os\n",
        "\n",
        "  max_el = np.max(X_train)\n",
        "  X_train = X_train / max_el\n",
        "  X_train = moveaxis(X_train, 3, 1)\n",
        "  if one_hot:\n",
        "    y_train = np.argmax(y_train, axis=1)\n",
        "  #X_train = X_train.astype('float32') / 255.\n",
        "  \n",
        "  batch_size = args['batch_size']\n",
        "  patience = args['patience']\n",
        "  encoder = Encoder(args)\n",
        "  decoder = Decoder(args)\n",
        "\n",
        "  device = 'cuda' if torch.cuda.is_available() else 'cpu'\n",
        "  print(device)\n",
        "  decoder = decoder.to(device)\n",
        "  encoder = encoder.to(device)\n",
        "\n",
        "  train_on_gpu = torch.cuda.is_available()\n",
        "\n",
        "  #decoder loss function\n",
        "  criterion = nn.MSELoss()\n",
        "  criterion = criterion.to(device)\n",
        "\n",
        "  num_workers = 0\n",
        "\n",
        "  #torch.Tensor returns float so if want long then use torch.tensor\n",
        "  tensor_x = torch.from_numpy(X_train.copy())#torch.Tensor(X_train)\n",
        "  tensor_y = torch.tensor(y_train,dtype=torch.long)\n",
        "  mnist_bal = TensorDataset(tensor_x,tensor_y) \n",
        "  train_loader = torch.utils.data.DataLoader(mnist_bal, \n",
        "      batch_size=batch_size,shuffle=True,num_workers=num_workers)\n",
        "\n",
        "  best_loss = np.inf\n",
        "\n",
        "  enc_optim = torch.optim.Adam(encoder.parameters(), lr = args['lr'])\n",
        "  dec_optim = torch.optim.Adam(decoder.parameters(), lr = args['lr'])\n",
        "\n",
        "  for epoch in range(args['epochs']):\n",
        "      train_loss = 0.0\n",
        "      tmse_loss = 0.0\n",
        "      tdiscr_loss = 0.0\n",
        "      # train for one epoch -- set nets to train mode\n",
        "      encoder.train()\n",
        "      decoder.train()\n",
        "  \n",
        "      for images,labs in train_loader:\n",
        "      \n",
        "          # zero gradients for each batch\n",
        "          encoder.zero_grad()\n",
        "          decoder.zero_grad()\n",
        "          images, labs = images.to(device), labs.to(device)\n",
        "          labsn = labs.detach().cpu().numpy()\n",
        "#            print('images shape', images.shape)\n",
        "          # run images\n",
        "          z_hat = encoder(images)\n",
        "#            print('images shape after encoding', z_hat.shape)\n",
        "      \n",
        "          x_hat = decoder(z_hat) #decoder outputs tanh\n",
        "#            print('images shape after decoding', x_hat.shape)\n",
        "          mse = criterion(x_hat,images)\n",
        "                  \n",
        "          resx = []\n",
        "          resy = []\n",
        "      \n",
        "          tc = np.random.choice(num_classes,1)\n",
        "          #tc = 9\n",
        "          xbeg = X_train[y_train == tc]\n",
        "          ybeg = y_train[y_train == tc] \n",
        "          xlen = len(xbeg)\n",
        "          nsamp = min(xlen, 100)\n",
        "          ind = np.random.choice(list(range(len(xbeg))),nsamp,replace=False)\n",
        "          xclass = xbeg[ind]\n",
        "          yclass = ybeg[ind]\n",
        "      \n",
        "          xclen = len(xclass)\n",
        "          xcminus = np.arange(1,xclen)\n",
        "          \n",
        "          xcplus = np.append(xcminus,0)\n",
        "          xcnew = (xclass[[xcplus],:])\n",
        "          xcnew = xcnew.reshape(xcnew.shape[1],xcnew.shape[2],xcnew.shape[3],xcnew.shape[4])\n",
        "      \n",
        "          xcnew = torch.Tensor(xcnew)\n",
        "          xcnew = xcnew.to(device)\n",
        "      \n",
        "          #encode xclass to feature space\n",
        "          xclass = torch.Tensor(xclass)\n",
        "          xclass = xclass.to(device)\n",
        "          xclass = encoder(xclass)\n",
        "      \n",
        "          xclass = xclass.detach().cpu().numpy()\n",
        "      \n",
        "          xc_enc = (xclass[[xcplus],:])\n",
        "          xc_enc = np.squeeze(xc_enc)\n",
        "      \n",
        "          xc_enc = torch.Tensor(xc_enc)\n",
        "          xc_enc = xc_enc.to(device)\n",
        "          \n",
        "          ximg = decoder(xc_enc)\n",
        "          \n",
        "          mse2 = criterion(ximg,xcnew)\n",
        "      \n",
        "          comb_loss = mse2 + mse\n",
        "          comb_loss.backward()\n",
        "      \n",
        "          enc_optim.step()\n",
        "          dec_optim.step()\n",
        "      \n",
        "          train_loss += comb_loss.item()*images.size(0)\n",
        "          tmse_loss += mse.item()*images.size(0)\n",
        "          tdiscr_loss += mse2.item()*images.size(0)\n",
        "\n",
        "      train_loss = train_loss/len(train_loader)\n",
        "      tmse_loss = tmse_loss/len(train_loader)\n",
        "      tdiscr_loss = tdiscr_loss/len(train_loader)\n",
        "      print('Epoch: {} \\tTrain Loss: {:.6f} \\tmse loss: {:.6f} \\tmse2 loss: {:.6f}'.format(epoch,\n",
        "              train_loss,tmse_loss,tdiscr_loss))\n",
        "      \n",
        "  \n",
        "  \n",
        "      #store the best encoder and decoder models\n",
        "      #here, /crs5 is a reference to 5 way cross validation, but is not\n",
        "      #necessary for illustration purposes\n",
        "      if train_loss < best_loss:\n",
        "          print('Saving..')\n",
        "          patience = args['patience']\n",
        "          path_enc = '/content/drive/MyDrive/PHD/Model/DeepSMOTE/32/bst_enc.pth'\n",
        "          path_dec = '/content/drive/MyDrive/PHD/Model/DeepSMOTE/32/bst_dec.pth'\n",
        "        \n",
        "          torch.save(encoder.state_dict(), path_enc)\n",
        "          torch.save(decoder.state_dict(), path_dec)\n",
        "  \n",
        "          best_loss = train_loss\n",
        "      else:\n",
        "          patience = patience - 1\n",
        "\n",
        "      if patience == 0:\n",
        "          print('Out of patience. \\n')\n",
        "          break\n",
        "\n",
        "def DeepSMOTE_Data(X_train, y_train, one_hot = False):\n",
        "  batch_size = args['batch_size']\n",
        "  max_el = np.max(X_train)\n",
        "  X_train = X_train / max_el\n",
        "  X_train = moveaxis(X_train, 3, 1)\n",
        "  if one_hot:\n",
        "    y_train = np.argmax(y_train, axis=1)\n",
        "  #Generate artificial images\n",
        "  import torch\n",
        "  np.printoptions(precision=5,suppress=True)\n",
        "\n",
        "  #path on the computer where the models are stored\n",
        "  modpth = '/content/drive/MyDrive/PHD/Model/DeepSMOTE/32/'\n",
        "\n",
        "  path_enc = modpth + '/bst_enc.pth'\n",
        "  path_dec = modpth + '/bst_dec.pth'\n",
        "  \n",
        "  train_on_gpu = torch.cuda.is_available()\n",
        "  device = 'cuda' if torch.cuda.is_available() else 'cpu'\n",
        "\n",
        "  encoder = Encoder(args)\n",
        "  encoder.load_state_dict(torch.load(path_enc), strict=False)\n",
        "  encoder = encoder.to(device)\n",
        "\n",
        "  decoder = Decoder(args)\n",
        "  decoder.load_state_dict(torch.load(path_dec), strict=False)\n",
        "  decoder = decoder.to(device)\n",
        "\n",
        "  encoder.eval()\n",
        "  decoder.eval()\n",
        "\n",
        "  resx = []\n",
        "  resy = []\n",
        "  \n",
        "  counter = Counter(y_train)\n",
        "  counter = sorted(counter.items())\n",
        "  counter = [value for _, value in counter]\n",
        "\n",
        "  for i in range(num_classes):\n",
        "      torch.cuda.empty_cache()\n",
        "\n",
        "      xclass, yclass = biased_get_class(X_train, y_train, i)\n",
        "      #encode xclass to feature space\n",
        "      xclass = torch.Tensor(xclass)\n",
        "      xclass = xclass.to(device)\n",
        "      xclass = encoder(xclass)\n",
        "          \n",
        "      xclass = xclass.detach().cpu().numpy()\n",
        "      n = np.max(counter) - counter[i]\n",
        "      if n == 0:\n",
        "        continue\n",
        "#        resx2 = []\n",
        "#        resy2 = []\n",
        "#        for j in range(batch_size, n+batch_size+1, batch_size):\n",
        "#          if j <= n:\n",
        "#            batch_size_max = batch_size\n",
        "#          elif n % batch_size != 0:\n",
        "#            batch_size_max = n%batch_size\n",
        "#          else:\n",
        "#            break\n",
        "#          xsamp, ysamp = G_SM(xclass,yclass,batch_size_max,i)\n",
        "      xsamp, ysamp = G_SM(xclass,yclass,n,i)\n",
        "      ysamp = np.array(ysamp)\n",
        "  \n",
        "      \"\"\"to generate samples for resnet\"\"\"   \n",
        "      xsamp = torch.Tensor(xsamp)\n",
        "      xsamp = xsamp.to(device)\n",
        "      ximg = decoder(xsamp)\n",
        "\n",
        "      ximn = ximg.detach().cpu().numpy()\n",
        "#        resx2.append(ximn)\n",
        "#        resy2.append(ysamp)\n",
        "#        \n",
        "#        resx2 = np.vstack(resx2)\n",
        "#        resy2 = np.hstack(resy2)\n",
        "      resx.append(ximn)\n",
        "      resy.append(ysamp)\n",
        "  \n",
        "  resx1 = np.vstack(resx)\n",
        "  resy1 = np.hstack(resy)\n",
        "  resx1 = resx1.reshape(resx1.shape[0],-1)\n",
        "  X_train = X_train.reshape(X_train.shape[0],-1)\n",
        "  X_train = np.vstack((resx1,X_train))\n",
        "  y_train = np.hstack((resy1,y_train))\n",
        "  y_train = to_categorical(y_train)\n",
        "  X_train = X_train.reshape(-1, 3, IMAGE_W, IMAGE_H)\n",
        "  X_train = moveaxis(X_train, 1, 3)\n",
        "  X_train = X_train * max_el\n",
        "  return X_train, y_train"
      ]
    },
    {
      "cell_type": "markdown",
      "metadata": {
        "id": "0jrJ33lUDkCM"
      },
      "source": [
        "#Split dataset to train and val"
      ]
    },
    {
      "cell_type": "code",
      "execution_count": null,
      "metadata": {
        "colab": {
          "base_uri": "https://localhost:8080/"
        },
        "id": "e6qneWL_Bs2U",
        "outputId": "701f956e-871c-49f2-a88d-08d5ae5a9221"
      },
      "outputs": [
        {
          "name": "stdout",
          "output_type": "stream",
          "text": [
            "Train Data:  (11261, 224, 224, 3)\n",
            "Remaining Data:  (2816, 224, 224, 3)\n"
          ]
        }
      ],
      "source": [
        "# stratified train and rem (20%) datasets\n",
        "from sklearn.model_selection import train_test_split\n",
        "X_train, X_val, y_train, y_val = train_test_split(X_train, y_train, test_size=0.2, stratify=y_train, random_state=1)\n",
        "\n",
        "print('Train Data: ', X_train.shape)\n",
        "print('Remaining Data: ', X_val.shape)"
      ]
    },
    {
      "cell_type": "code",
      "execution_count": null,
      "metadata": {
        "id": "8Kef4r_zxjgk"
      },
      "outputs": [],
      "source": [
        "#Data Augmentation\n",
        "dataaugment = ImageDataGenerator(\n",
        "        rotation_range=90,  # randomly rotate images in the range (degrees, 0 to 180)\n",
        "        zoom_range = 0.1, # Randomly zoom image \n",
        "        width_shift_range=0.1,  # randomly shift images horizontally (fraction of total width)\n",
        "        height_shift_range=0.1,  # randomly shift images vertically (fraction of total height)\n",
        "        horizontal_flip=True,  # randomly flip images\n",
        "        vertical_flip=True,  # randomly flip images\n",
        "        shear_range = 10) \n",
        "\n",
        "dataaugment.fit(X_train)"
      ]
    },
    {
      "cell_type": "markdown",
      "metadata": {
        "id": "B2PgksTFkOAq"
      },
      "source": [
        "#Fine Tune"
      ]
    },
    {
      "cell_type": "code",
      "execution_count": null,
      "metadata": {
        "id": "Nr1jnSM7yzJc"
      },
      "outputs": [],
      "source": [
        "limit = 171\n",
        "for layer in model.layers[:limit]:\n",
        "   layer.trainable = False\n",
        "for layer in model.layers[limit:]:\n",
        "   layer.trainable = True\n",
        "\n",
        "optimizer_SGD = SGD(learning_rate=0.0001, momentum=0.9)\n",
        "model.compile(optimizer = optimizer_SGD , loss = \"categorical_crossentropy\", metrics=['accuracy', balanced_acc])\n",
        "hst2 = model.fit(train_data_batches,\n",
        "                    epochs = EPOCHS, validation_data = valid_data_batches,\n",
        "                    callbacks=[learning_rate_reduction,early_stopping_monitor, mc])\n"
      ]
    },
    {
      "cell_type": "code",
      "execution_count": null,
      "metadata": {
        "id": "vO1aAQBmiy0K"
      },
      "outputs": [],
      "source": [
        "# summarize history for accuracy\n",
        "plt.plot(hst2.history['balanced_acc'])\n",
        "plt.plot(hst2.history['val_balanced_acc'])\n",
        "plt.title('model balance_acc after tunning')\n",
        "plt.ylabel('accuracy')\n",
        "plt.xlabel('epoch')\n",
        "plt.legend(['train', 'val'], loc='upper left')\n",
        "plt.show()"
      ]
    }
  ],
  "metadata": {
    "accelerator": "GPU",
    "colab": {
      "collapsed_sections": [
        "3K908bbiYwbS",
        "RcRGeofw-8tK",
        "cNBXx28B9yGu",
        "0jrJ33lUDkCM",
        "B2PgksTFkOAq"
      ],
      "machine_shape": "hm",
      "provenance": [],
      "include_colab_link": true
    },
    "gpuClass": "standard",
    "kernelspec": {
      "display_name": "Python 3",
      "name": "python3"
    },
    "language_info": {
      "name": "python"
    }
  },
  "nbformat": 4,
  "nbformat_minor": 0
}